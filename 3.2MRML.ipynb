{
 "cells": [
  {
   "cell_type": "markdown",
   "metadata": {},
   "source": [
    "# ALL MODELS : REGRESSION"
   ]
  },
  {
   "cell_type": "markdown",
   "metadata": {},
   "source": [
    "TRAIN TEST SPLIT"
   ]
  },
  {
   "cell_type": "code",
   "execution_count": null,
   "metadata": {},
   "outputs": [],
   "source": [
    "from sklearn.model_selection import train_test_split as tts\n",
    "X_train,X_test,y_train,y_test=tts(X,y,test_size=0.2,random_state=42)"
   ]
  },
  {
   "cell_type": "markdown",
   "metadata": {},
   "source": [
    "IMPORTING LIBS."
   ]
  },
  {
   "cell_type": "code",
   "execution_count": null,
   "metadata": {},
   "outputs": [],
   "source": [
    "from sklearn.model_selection import cross_val_score, GridSearchCV\n",
    "from sklearn.metrics import r2_score,mean_squared_error,median_absolute_error\n",
    "from sklearn.model_selection import GridSearchCV"
   ]
  },
  {
   "cell_type": "markdown",
   "metadata": {},
   "source": [
    "LINEAR REGRESSION"
   ]
  },
  {
   "cell_type": "code",
   "execution_count": null,
   "metadata": {},
   "outputs": [],
   "source": [
    "from sklearn.linear_model import LinearRegression\n",
    "lin_reg= LinearRegression()\n",
    "\n",
    "lr_model= lin_reg.fit(X_train,y_train)\n",
    "y_pred_lr= lr_model.predict(X_test)\n",
    "r2_score(y_test,y_pred_lr)\n",
    "np.sqrt(mean_squared_error(y_test,y_pred_lr))"
   ]
  },
  {
   "cell_type": "code",
   "execution_count": null,
   "metadata": {},
   "outputs": [],
   "source": [
    "cross_val_score(lin_reg,X,y,cv=10)"
   ]
  },
  {
   "cell_type": "markdown",
   "metadata": {},
   "source": [
    "RIDGE REGRESSION"
   ]
  },
  {
   "cell_type": "code",
   "execution_count": null,
   "metadata": {},
   "outputs": [],
   "source": [
    "from sklearn.linear_model import RidgeCV\n",
    "ridge=RidgeCV(alphas=np.arange(0.1,2,0.1))\n",
    "\n",
    "ridge_model = ridge.fit(X_train,y_train)\n",
    "y_pred_rr= ridge_model.predict(X_test)\n",
    "r2_score(y_test,y_pred_rr)\n",
    "np.sqrt(mean_squared_error(y_test,y_pred_rr))"
   ]
  },
  {
   "cell_type": "markdown",
   "metadata": {},
   "source": [
    "LASSO REGRESSION"
   ]
  },
  {
   "cell_type": "code",
   "execution_count": null,
   "metadata": {},
   "outputs": [],
   "source": [
    "from sklearn.linear_model import LassoCV\n",
    "lasso=LassoCV(alphas=np.arange(0.1,2,0.1))\n",
    "\n",
    "lasso_model = lasso.fit(X_train,y_train)\n",
    "y_pred_lasso= lasso_model.predict(X_test)\n",
    "r2_score(y_test,y_pred_lasso)\n",
    "np.sqrt(mean_squared_error(y_test,y_pred_lasso))"
   ]
  },
  {
   "cell_type": "markdown",
   "metadata": {},
   "source": [
    "KNN REGRESSION"
   ]
  },
  {
   "cell_type": "code",
   "execution_count": null,
   "metadata": {},
   "outputs": [],
   "source": [
    "from sklearn.neighbors import KNeighborsRegressor\n",
    "knn=KNeighborsRegressor(n_neighbors=5)\n",
    "\n",
    "knn_model = knn.fit(X_train,y_train)\n",
    "y_pred_knn=knn_model.predict(X_test)\n",
    "r2_score(y_test,y_pred_knn)\n",
    "np.sqrt(mean_squared_error(y_test,y_pred_knn))"
   ]
  },
  {
   "cell_type": "markdown",
   "metadata": {},
   "source": [
    "DT REGRESSION"
   ]
  },
  {
   "cell_type": "code",
   "execution_count": null,
   "metadata": {},
   "outputs": [],
   "source": [
    "from sklearn.tree import DecisionTreeRegressor\n",
    "dt = DecisionTreeRegressor(random_state = 42)\n",
    "\n",
    "dt_model= dt.fit(X_train,y_train)\n",
    "y_pred_dt= dt_model.predict(X_test)\n",
    "r2_score(y_test,y_pred_dt)\n",
    "np.sqrt(mean_squared_error(y_test,y_pred_dt))"
   ]
  },
  {
   "cell_type": "markdown",
   "metadata": {},
   "source": [
    "RF REGRESSION"
   ]
  },
  {
   "cell_type": "code",
   "execution_count": null,
   "metadata": {},
   "outputs": [],
   "source": [
    "from sklearn.ensemble import RandomForestRegressor\n",
    "rf = RandomForestRegressor(n_estimators = 100, random_state = 42)\n",
    "\n",
    "rf_model= rf.fit(X_train,y_train)\n",
    "y_pred_rf= rf_model.predict(X_test)\n",
    "r2_score(y_test,y_pred_rf)\n",
    "np.sqrt(mean_squared_error(y_test,y_pred_rf))"
   ]
  },
  {
   "cell_type": "markdown",
   "metadata": {},
   "source": [
    "RESULTS"
   ]
  },
  {
   "cell_type": "code",
   "execution_count": null,
   "metadata": {},
   "outputs": [],
   "source": [
    "Model = [\"Linear Regression\",\"Ridge Regression\",\"Lasso Regression\",\"RandomForest Regression\"]\n",
    "r2_score= [r2_score(y_test,y_pred_lr),r2_score(y_test,y_pred_rr),r2_score(y_test,y_pred_lasso),r2_score(y_test,y_pred_rf)]\n",
    "results=pd.DataFrame({'Model': Model,'R Squared': r2_score})\n",
    "results"
   ]
  }
 ],
 "metadata": {
  "kernelspec": {
   "display_name": "Python 3",
   "language": "python",
   "name": "python3"
  },
  "language_info": {
   "codemirror_mode": {
    "name": "ipython",
    "version": 3
   },
   "file_extension": ".py",
   "mimetype": "text/x-python",
   "name": "python",
   "nbconvert_exporter": "python",
   "pygments_lexer": "ipython3",
   "version": "3.7.1"
  }
 },
 "nbformat": 4,
 "nbformat_minor": 2
}
