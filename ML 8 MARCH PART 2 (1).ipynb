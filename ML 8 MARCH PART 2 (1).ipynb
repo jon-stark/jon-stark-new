{
 "cells": [
  {
   "cell_type": "code",
   "execution_count": 25,
   "metadata": {},
   "outputs": [],
   "source": [
    "import os\n",
    "os.getcwd()\n",
    "os.chdir(\"C://Users//Devyani//Downloads\")\n",
    "import pandas as pd\n",
    "df=pd.read_csv(\"Model1csv.csv\")\n",
    "df.head()\n",
    "import warnings\n",
    "warnings.filterwarnings(\"ignore\")"
   ]
  },
  {
   "cell_type": "markdown",
   "metadata": {},
   "source": [
    "## Target- Closed"
   ]
  },
  {
   "cell_type": "code",
   "execution_count": 26,
   "metadata": {},
   "outputs": [
    {
     "data": {
      "text/plain": [
       "Index(['id', 'ManamgementDimension', 'StrategicDimenision',\n",
       "       'CustomerDimension', 'MarketDimension', 'FinanceDimension',\n",
       "       'HRDimension', 'OperationalDimension', 'Industry_Vertical',\n",
       "       'SubVertical', 'City', 'IndustryPerformance', 'CompetitiveLandscape',\n",
       "       'InvestmentType', 'Invest_1st_Q_S', 'Year_of_Start', 'Empl_Cnt_Y1',\n",
       "       'Closed'],\n",
       "      dtype='object')"
      ]
     },
     "execution_count": 26,
     "metadata": {},
     "output_type": "execute_result"
    }
   ],
   "source": [
    "df.columns"
   ]
  },
  {
   "cell_type": "code",
   "execution_count": 27,
   "metadata": {},
   "outputs": [],
   "source": [
    "df = df.drop([\"id\"],1)"
   ]
  },
  {
   "cell_type": "code",
   "execution_count": 28,
   "metadata": {},
   "outputs": [
    {
     "data": {
      "text/html": [
       "<div>\n",
       "<style scoped>\n",
       "    .dataframe tbody tr th:only-of-type {\n",
       "        vertical-align: middle;\n",
       "    }\n",
       "\n",
       "    .dataframe tbody tr th {\n",
       "        vertical-align: top;\n",
       "    }\n",
       "\n",
       "    .dataframe thead th {\n",
       "        text-align: right;\n",
       "    }\n",
       "</style>\n",
       "<table border=\"1\" class=\"dataframe\">\n",
       "  <thead>\n",
       "    <tr style=\"text-align: right;\">\n",
       "      <th></th>\n",
       "      <th>ManamgementDimension</th>\n",
       "      <th>StrategicDimenision</th>\n",
       "      <th>CustomerDimension</th>\n",
       "      <th>MarketDimension</th>\n",
       "      <th>FinanceDimension</th>\n",
       "      <th>HRDimension</th>\n",
       "      <th>OperationalDimension</th>\n",
       "      <th>Industry_Vertical</th>\n",
       "      <th>SubVertical</th>\n",
       "      <th>City</th>\n",
       "      <th>IndustryPerformance</th>\n",
       "      <th>CompetitiveLandscape</th>\n",
       "      <th>InvestmentType</th>\n",
       "      <th>Invest_1st_Q_S</th>\n",
       "      <th>Year_of_Start</th>\n",
       "      <th>Empl_Cnt_Y1</th>\n",
       "      <th>Closed</th>\n",
       "    </tr>\n",
       "  </thead>\n",
       "  <tbody>\n",
       "    <tr>\n",
       "      <th>0</th>\n",
       "      <td>9</td>\n",
       "      <td>8</td>\n",
       "      <td>7</td>\n",
       "      <td>8</td>\n",
       "      <td>7</td>\n",
       "      <td>6</td>\n",
       "      <td>6</td>\n",
       "      <td>Consumer Internet</td>\n",
       "      <td>Online / Mobile Food Ordering platform</td>\n",
       "      <td>Bengaluru</td>\n",
       "      <td>High</td>\n",
       "      <td>Low</td>\n",
       "      <td>Angel / Seed Funding</td>\n",
       "      <td>5 Crore and Above</td>\n",
       "      <td>2016</td>\n",
       "      <td>Above 25</td>\n",
       "      <td>0</td>\n",
       "    </tr>\n",
       "    <tr>\n",
       "      <th>1</th>\n",
       "      <td>7</td>\n",
       "      <td>7</td>\n",
       "      <td>6</td>\n",
       "      <td>7</td>\n",
       "      <td>7</td>\n",
       "      <td>6</td>\n",
       "      <td>5</td>\n",
       "      <td>Consumer Internet</td>\n",
       "      <td>inter-city cab aggregator</td>\n",
       "      <td>New Delhi</td>\n",
       "      <td>Medium</td>\n",
       "      <td>High</td>\n",
       "      <td>Angel / Seed Funding</td>\n",
       "      <td>5 Crore and Above</td>\n",
       "      <td>2015</td>\n",
       "      <td>Above 25</td>\n",
       "      <td>0</td>\n",
       "    </tr>\n",
       "    <tr>\n",
       "      <th>2</th>\n",
       "      <td>9</td>\n",
       "      <td>9</td>\n",
       "      <td>5</td>\n",
       "      <td>4</td>\n",
       "      <td>7</td>\n",
       "      <td>6</td>\n",
       "      <td>6</td>\n",
       "      <td>Consumer Internet</td>\n",
       "      <td>Online Furnishing Rental Platform</td>\n",
       "      <td>Gurgaon</td>\n",
       "      <td>High</td>\n",
       "      <td>Medium</td>\n",
       "      <td>Angel / Seed Funding</td>\n",
       "      <td>5 Crore and Above</td>\n",
       "      <td>2015</td>\n",
       "      <td>Above 25</td>\n",
       "      <td>0</td>\n",
       "    </tr>\n",
       "    <tr>\n",
       "      <th>3</th>\n",
       "      <td>6</td>\n",
       "      <td>9</td>\n",
       "      <td>4</td>\n",
       "      <td>6</td>\n",
       "      <td>7</td>\n",
       "      <td>6</td>\n",
       "      <td>5</td>\n",
       "      <td>Consumer Internet</td>\n",
       "      <td>Online Bike &amp; Car Services provider</td>\n",
       "      <td>Chennai</td>\n",
       "      <td>Medium</td>\n",
       "      <td>High</td>\n",
       "      <td>Angel / Seed Funding</td>\n",
       "      <td>2 - 5 Crores</td>\n",
       "      <td>2015</td>\n",
       "      <td>between 10 to 15</td>\n",
       "      <td>0</td>\n",
       "    </tr>\n",
       "    <tr>\n",
       "      <th>4</th>\n",
       "      <td>6</td>\n",
       "      <td>7</td>\n",
       "      <td>6</td>\n",
       "      <td>5</td>\n",
       "      <td>7</td>\n",
       "      <td>6</td>\n",
       "      <td>7</td>\n",
       "      <td>Consumer Internet</td>\n",
       "      <td>Fresh Food Delivery platform</td>\n",
       "      <td>Bengaluru</td>\n",
       "      <td>Medium</td>\n",
       "      <td>High</td>\n",
       "      <td>Debt Funding</td>\n",
       "      <td>5 Crore and Above</td>\n",
       "      <td>2014</td>\n",
       "      <td>Above 25</td>\n",
       "      <td>0</td>\n",
       "    </tr>\n",
       "  </tbody>\n",
       "</table>\n",
       "</div>"
      ],
      "text/plain": [
       "   ManamgementDimension  StrategicDimenision  CustomerDimension  \\\n",
       "0                     9                    8                  7   \n",
       "1                     7                    7                  6   \n",
       "2                     9                    9                  5   \n",
       "3                     6                    9                  4   \n",
       "4                     6                    7                  6   \n",
       "\n",
       "   MarketDimension  FinanceDimension  HRDimension  OperationalDimension  \\\n",
       "0                8                 7            6                     6   \n",
       "1                7                 7            6                     5   \n",
       "2                4                 7            6                     6   \n",
       "3                6                 7            6                     5   \n",
       "4                5                 7            6                     7   \n",
       "\n",
       "   Industry_Vertical                             SubVertical       City  \\\n",
       "0  Consumer Internet  Online / Mobile Food Ordering platform  Bengaluru   \n",
       "1  Consumer Internet               inter-city cab aggregator  New Delhi   \n",
       "2  Consumer Internet       Online Furnishing Rental Platform    Gurgaon   \n",
       "3  Consumer Internet     Online Bike & Car Services provider    Chennai   \n",
       "4  Consumer Internet            Fresh Food Delivery platform  Bengaluru   \n",
       "\n",
       "  IndustryPerformance CompetitiveLandscape        InvestmentType  \\\n",
       "0                High                  Low  Angel / Seed Funding   \n",
       "1              Medium                 High  Angel / Seed Funding   \n",
       "2                High               Medium  Angel / Seed Funding   \n",
       "3              Medium                 High  Angel / Seed Funding   \n",
       "4              Medium                 High          Debt Funding   \n",
       "\n",
       "      Invest_1st_Q_S  Year_of_Start       Empl_Cnt_Y1  Closed  \n",
       "0  5 Crore and Above           2016          Above 25       0  \n",
       "1  5 Crore and Above           2015          Above 25       0  \n",
       "2  5 Crore and Above           2015          Above 25       0  \n",
       "3       2 - 5 Crores           2015  between 10 to 15       0  \n",
       "4  5 Crore and Above           2014          Above 25       0  "
      ]
     },
     "execution_count": 28,
     "metadata": {},
     "output_type": "execute_result"
    }
   ],
   "source": [
    "df.head()"
   ]
  },
  {
   "cell_type": "code",
   "execution_count": 29,
   "metadata": {},
   "outputs": [],
   "source": [
    "import numpy as np\n",
    "numerical = df.select_dtypes(include = np.number)\n",
    "categorical = df.select_dtypes(exclude = np.number)"
   ]
  },
  {
   "cell_type": "code",
   "execution_count": 30,
   "metadata": {},
   "outputs": [],
   "source": [
    "for x in list(categorical):\n",
    "    categorical[x] = categorical[x].str.lower()"
   ]
  },
  {
   "cell_type": "code",
   "execution_count": 31,
   "metadata": {},
   "outputs": [],
   "source": [
    "from sklearn.preprocessing import LabelEncoder"
   ]
  },
  {
   "cell_type": "code",
   "execution_count": 32,
   "metadata": {},
   "outputs": [],
   "source": [
    "le = LabelEncoder()"
   ]
  },
  {
   "cell_type": "code",
   "execution_count": 33,
   "metadata": {},
   "outputs": [],
   "source": [
    "for x in list(categorical):\n",
    "    categorical[x] = le.fit_transform(categorical[x])"
   ]
  },
  {
   "cell_type": "code",
   "execution_count": 34,
   "metadata": {},
   "outputs": [],
   "source": [
    "numerical[\"age\"] = 2019 - df[\"Year_of_Start\"]"
   ]
  },
  {
   "cell_type": "code",
   "execution_count": 35,
   "metadata": {},
   "outputs": [],
   "source": [
    "numerical = numerical.drop([\"Year_of_Start\"],1)"
   ]
  },
  {
   "cell_type": "code",
   "execution_count": 36,
   "metadata": {},
   "outputs": [],
   "source": [
    "df=pd.concat([numerical,categorical],1)"
   ]
  },
  {
   "cell_type": "code",
   "execution_count": 42,
   "metadata": {},
   "outputs": [],
   "source": [
    "from sklearn.tree import DecisionTreeClassifier\n",
    "dtc = DecisionTreeClassifier()"
   ]
  },
  {
   "cell_type": "code",
   "execution_count": 38,
   "metadata": {},
   "outputs": [],
   "source": [
    "df[\"Closed\"] = le.fit_transform(df[\"Closed\"])"
   ]
  },
  {
   "cell_type": "code",
   "execution_count": 39,
   "metadata": {},
   "outputs": [],
   "source": [
    "X = df.drop([\"Closed\"],1)\n",
    "y = df[\"Closed\"]"
   ]
  },
  {
   "cell_type": "code",
   "execution_count": 47,
   "metadata": {},
   "outputs": [],
   "source": [
    "import numpy as np\n",
    "params = {\"criterion\":[\"gini\", \"entropy\"],\n",
    "        \"max_depth\":np.arange(2,20), \n",
    "         \"min_samples_split\":np.arange(0.01,0.2, 0.01)}"
   ]
  },
  {
   "cell_type": "code",
   "execution_count": 48,
   "metadata": {},
   "outputs": [],
   "source": [
    "from  sklearn.model_selection import GridSearchCV\n",
    "dtc_cv = GridSearchCV(dtc, param_grid=params, cv = 10)"
   ]
  },
  {
   "cell_type": "code",
   "execution_count": 49,
   "metadata": {},
   "outputs": [
    {
     "data": {
      "text/plain": [
       "GridSearchCV(cv=10, error_score='raise-deprecating',\n",
       "       estimator=DecisionTreeClassifier(class_weight=None, criterion='gini', max_depth=None,\n",
       "            max_features=None, max_leaf_nodes=None,\n",
       "            min_impurity_decrease=0.0, min_impurity_split=None,\n",
       "            min_samples_leaf=1, min_samples_split=2,\n",
       "            min_weight_fraction_leaf=0.0, presort=False, random_state=None,\n",
       "            splitter='best'),\n",
       "       fit_params=None, iid='warn', n_jobs=None,\n",
       "       param_grid={'criterion': ['gini', 'entropy'], 'max_depth': array([ 2,  3,  4,  5,  6,  7,  8,  9, 10, 11, 12, 13, 14, 15, 16, 17, 18,\n",
       "       19]), 'min_samples_split': array([0.01, 0.02, 0.03, 0.04, 0.05, 0.06, 0.07, 0.08, 0.09, 0.1 , 0.11,\n",
       "       0.12, 0.13, 0.14, 0.15, 0.16, 0.17, 0.18, 0.19])},\n",
       "       pre_dispatch='2*n_jobs', refit=True, return_train_score='warn',\n",
       "       scoring=None, verbose=0)"
      ]
     },
     "execution_count": 49,
     "metadata": {},
     "output_type": "execute_result"
    }
   ],
   "source": [
    "dtc_cv.fit(X,y)"
   ]
  },
  {
   "cell_type": "code",
   "execution_count": 50,
   "metadata": {},
   "outputs": [
    {
     "data": {
      "text/plain": [
       "{'criterion': 'gini', 'max_depth': 2, 'min_samples_split': 0.09}"
      ]
     },
     "execution_count": 50,
     "metadata": {},
     "output_type": "execute_result"
    }
   ],
   "source": [
    "dtc_cv.best_params_"
   ]
  },
  {
   "cell_type": "code",
   "execution_count": 51,
   "metadata": {},
   "outputs": [
    {
     "data": {
      "text/plain": [
       "0.5911290322580646"
      ]
     },
     "execution_count": 51,
     "metadata": {},
     "output_type": "execute_result"
    }
   ],
   "source": [
    "dtc_cv.best_score_"
   ]
  },
  {
   "cell_type": "code",
   "execution_count": 52,
   "metadata": {},
   "outputs": [
    {
     "data": {
      "text/plain": [
       "DecisionTreeClassifier(class_weight=None, criterion='gini', max_depth=2,\n",
       "            max_features=None, max_leaf_nodes=None,\n",
       "            min_impurity_decrease=0.0, min_impurity_split=None,\n",
       "            min_samples_leaf=1, min_samples_split=0.09,\n",
       "            min_weight_fraction_leaf=0.0, presort=False, random_state=None,\n",
       "            splitter='best')"
      ]
     },
     "execution_count": 52,
     "metadata": {},
     "output_type": "execute_result"
    }
   ],
   "source": [
    "dtc_cv.best_estimator_"
   ]
  },
  {
   "cell_type": "code",
   "execution_count": null,
   "metadata": {},
   "outputs": [],
   "source": []
  },
  {
   "cell_type": "code",
   "execution_count": null,
   "metadata": {},
   "outputs": [],
   "source": [
    "# DT was done to get best params for the RF algo but the data is fucked up so accuracy is not increasing..."
   ]
  },
  {
   "cell_type": "code",
   "execution_count": null,
   "metadata": {},
   "outputs": [],
   "source": [
    "#Check the Y of data....it has first only 0s and then only 1s which is leading to class imbalance"
   ]
  },
  {
   "cell_type": "code",
   "execution_count": null,
   "metadata": {},
   "outputs": [],
   "source": []
  },
  {
   "cell_type": "code",
   "execution_count": null,
   "metadata": {},
   "outputs": [],
   "source": [
    "#The accuracy is shitty due to class imbalance\n",
    "# chech using :\n",
    "#from sklearn.metrics import classification_report\n",
    "#print(classification_report(y_test,y_pred))"
   ]
  }
 ],
 "metadata": {
  "kernelspec": {
   "display_name": "Python 3",
   "language": "python",
   "name": "python3"
  },
  "language_info": {
   "codemirror_mode": {
    "name": "ipython",
    "version": 3
   },
   "file_extension": ".py",
   "mimetype": "text/x-python",
   "name": "python",
   "nbconvert_exporter": "python",
   "pygments_lexer": "ipython3",
   "version": "3.7.1"
  }
 },
 "nbformat": 4,
 "nbformat_minor": 2
}
