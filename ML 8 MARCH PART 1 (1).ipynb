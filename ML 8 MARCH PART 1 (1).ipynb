{
 "cells": [
  {
   "cell_type": "code",
   "execution_count": null,
   "metadata": {},
   "outputs": [],
   "source": [
    "## import os\n",
    "os.getcwd()\n",
    "os.chdir(\"C://Users//Devyani//Downloads\")\n",
    "import pandas as pd\n",
    "df=pd.read_csv(\"Model1csv.csv\")\n",
    "df.head()\n",
    "import warnings\n",
    "warnings.filterwarnings(\"ignore\")"
   ]
  },
  {
   "cell_type": "markdown",
   "metadata": {},
   "source": [
    "## Target- Closed"
   ]
  },
  {
   "cell_type": "code",
   "execution_count": 14,
   "metadata": {},
   "outputs": [
    {
     "data": {
      "text/plain": [
       "Index(['id', 'ManamgementDimension', 'StrategicDimenision',\n",
       "       'CustomerDimension', 'MarketDimension', 'FinanceDimension',\n",
       "       'HRDimension', 'OperationalDimension', 'Industry_Vertical',\n",
       "       'SubVertical', 'City', 'IndustryPerformance', 'CompetitiveLandscape',\n",
       "       'InvestmentType', 'Invest_1st_Q_S', 'Year_of_Start', 'Empl_Cnt_Y1',\n",
       "       'Closed'],\n",
       "      dtype='object')"
      ]
     },
     "execution_count": 14,
     "metadata": {},
     "output_type": "execute_result"
    }
   ],
   "source": [
    "df.columns"
   ]
  },
  {
   "cell_type": "code",
   "execution_count": 15,
   "metadata": {},
   "outputs": [],
   "source": [
    "df = df.drop([\"id\"],1)"
   ]
  },
  {
   "cell_type": "code",
   "execution_count": 16,
   "metadata": {},
   "outputs": [
    {
     "data": {
      "text/html": [
       "<div>\n",
       "<style scoped>\n",
       "    .dataframe tbody tr th:only-of-type {\n",
       "        vertical-align: middle;\n",
       "    }\n",
       "\n",
       "    .dataframe tbody tr th {\n",
       "        vertical-align: top;\n",
       "    }\n",
       "\n",
       "    .dataframe thead th {\n",
       "        text-align: right;\n",
       "    }\n",
       "</style>\n",
       "<table border=\"1\" class=\"dataframe\">\n",
       "  <thead>\n",
       "    <tr style=\"text-align: right;\">\n",
       "      <th></th>\n",
       "      <th>ManamgementDimension</th>\n",
       "      <th>StrategicDimenision</th>\n",
       "      <th>CustomerDimension</th>\n",
       "      <th>MarketDimension</th>\n",
       "      <th>FinanceDimension</th>\n",
       "      <th>HRDimension</th>\n",
       "      <th>OperationalDimension</th>\n",
       "      <th>Industry_Vertical</th>\n",
       "      <th>SubVertical</th>\n",
       "      <th>City</th>\n",
       "      <th>IndustryPerformance</th>\n",
       "      <th>CompetitiveLandscape</th>\n",
       "      <th>InvestmentType</th>\n",
       "      <th>Invest_1st_Q_S</th>\n",
       "      <th>Year_of_Start</th>\n",
       "      <th>Empl_Cnt_Y1</th>\n",
       "      <th>Closed</th>\n",
       "    </tr>\n",
       "  </thead>\n",
       "  <tbody>\n",
       "    <tr>\n",
       "      <th>0</th>\n",
       "      <td>9</td>\n",
       "      <td>8</td>\n",
       "      <td>7</td>\n",
       "      <td>8</td>\n",
       "      <td>7</td>\n",
       "      <td>6</td>\n",
       "      <td>6</td>\n",
       "      <td>Consumer Internet</td>\n",
       "      <td>Online / Mobile Food Ordering platform</td>\n",
       "      <td>Bengaluru</td>\n",
       "      <td>High</td>\n",
       "      <td>Low</td>\n",
       "      <td>Angel / Seed Funding</td>\n",
       "      <td>5 Crore and Above</td>\n",
       "      <td>2016</td>\n",
       "      <td>Above 25</td>\n",
       "      <td>0</td>\n",
       "    </tr>\n",
       "    <tr>\n",
       "      <th>1</th>\n",
       "      <td>7</td>\n",
       "      <td>7</td>\n",
       "      <td>6</td>\n",
       "      <td>7</td>\n",
       "      <td>7</td>\n",
       "      <td>6</td>\n",
       "      <td>5</td>\n",
       "      <td>Consumer Internet</td>\n",
       "      <td>inter-city cab aggregator</td>\n",
       "      <td>New Delhi</td>\n",
       "      <td>Medium</td>\n",
       "      <td>High</td>\n",
       "      <td>Angel / Seed Funding</td>\n",
       "      <td>5 Crore and Above</td>\n",
       "      <td>2015</td>\n",
       "      <td>Above 25</td>\n",
       "      <td>0</td>\n",
       "    </tr>\n",
       "    <tr>\n",
       "      <th>2</th>\n",
       "      <td>9</td>\n",
       "      <td>9</td>\n",
       "      <td>5</td>\n",
       "      <td>4</td>\n",
       "      <td>7</td>\n",
       "      <td>6</td>\n",
       "      <td>6</td>\n",
       "      <td>Consumer Internet</td>\n",
       "      <td>Online Furnishing Rental Platform</td>\n",
       "      <td>Gurgaon</td>\n",
       "      <td>High</td>\n",
       "      <td>Medium</td>\n",
       "      <td>Angel / Seed Funding</td>\n",
       "      <td>5 Crore and Above</td>\n",
       "      <td>2015</td>\n",
       "      <td>Above 25</td>\n",
       "      <td>0</td>\n",
       "    </tr>\n",
       "    <tr>\n",
       "      <th>3</th>\n",
       "      <td>6</td>\n",
       "      <td>9</td>\n",
       "      <td>4</td>\n",
       "      <td>6</td>\n",
       "      <td>7</td>\n",
       "      <td>6</td>\n",
       "      <td>5</td>\n",
       "      <td>Consumer Internet</td>\n",
       "      <td>Online Bike &amp; Car Services provider</td>\n",
       "      <td>Chennai</td>\n",
       "      <td>Medium</td>\n",
       "      <td>High</td>\n",
       "      <td>Angel / Seed Funding</td>\n",
       "      <td>2 - 5 Crores</td>\n",
       "      <td>2015</td>\n",
       "      <td>between 10 to 15</td>\n",
       "      <td>0</td>\n",
       "    </tr>\n",
       "    <tr>\n",
       "      <th>4</th>\n",
       "      <td>6</td>\n",
       "      <td>7</td>\n",
       "      <td>6</td>\n",
       "      <td>5</td>\n",
       "      <td>7</td>\n",
       "      <td>6</td>\n",
       "      <td>7</td>\n",
       "      <td>Consumer Internet</td>\n",
       "      <td>Fresh Food Delivery platform</td>\n",
       "      <td>Bengaluru</td>\n",
       "      <td>Medium</td>\n",
       "      <td>High</td>\n",
       "      <td>Debt Funding</td>\n",
       "      <td>5 Crore and Above</td>\n",
       "      <td>2014</td>\n",
       "      <td>Above 25</td>\n",
       "      <td>0</td>\n",
       "    </tr>\n",
       "  </tbody>\n",
       "</table>\n",
       "</div>"
      ],
      "text/plain": [
       "   ManamgementDimension  StrategicDimenision  CustomerDimension  \\\n",
       "0                     9                    8                  7   \n",
       "1                     7                    7                  6   \n",
       "2                     9                    9                  5   \n",
       "3                     6                    9                  4   \n",
       "4                     6                    7                  6   \n",
       "\n",
       "   MarketDimension  FinanceDimension  HRDimension  OperationalDimension  \\\n",
       "0                8                 7            6                     6   \n",
       "1                7                 7            6                     5   \n",
       "2                4                 7            6                     6   \n",
       "3                6                 7            6                     5   \n",
       "4                5                 7            6                     7   \n",
       "\n",
       "   Industry_Vertical                             SubVertical       City  \\\n",
       "0  Consumer Internet  Online / Mobile Food Ordering platform  Bengaluru   \n",
       "1  Consumer Internet               inter-city cab aggregator  New Delhi   \n",
       "2  Consumer Internet       Online Furnishing Rental Platform    Gurgaon   \n",
       "3  Consumer Internet     Online Bike & Car Services provider    Chennai   \n",
       "4  Consumer Internet            Fresh Food Delivery platform  Bengaluru   \n",
       "\n",
       "  IndustryPerformance CompetitiveLandscape        InvestmentType  \\\n",
       "0                High                  Low  Angel / Seed Funding   \n",
       "1              Medium                 High  Angel / Seed Funding   \n",
       "2                High               Medium  Angel / Seed Funding   \n",
       "3              Medium                 High  Angel / Seed Funding   \n",
       "4              Medium                 High          Debt Funding   \n",
       "\n",
       "      Invest_1st_Q_S  Year_of_Start       Empl_Cnt_Y1  Closed  \n",
       "0  5 Crore and Above           2016          Above 25       0  \n",
       "1  5 Crore and Above           2015          Above 25       0  \n",
       "2  5 Crore and Above           2015          Above 25       0  \n",
       "3       2 - 5 Crores           2015  between 10 to 15       0  \n",
       "4  5 Crore and Above           2014          Above 25       0  "
      ]
     },
     "execution_count": 16,
     "metadata": {},
     "output_type": "execute_result"
    }
   ],
   "source": [
    "df.head()"
   ]
  },
  {
   "cell_type": "code",
   "execution_count": 17,
   "metadata": {},
   "outputs": [],
   "source": [
    "import numpy as np\n",
    "numerical = df.select_dtypes(include = np.number)\n",
    "categorical = df.select_dtypes(exclude = np.number)"
   ]
  },
  {
   "cell_type": "code",
   "execution_count": 18,
   "metadata": {},
   "outputs": [],
   "source": [
    "for x in list(categorical):\n",
    "    categorical[x] = categorical[x].str.lower()"
   ]
  },
  {
   "cell_type": "code",
   "execution_count": 19,
   "metadata": {},
   "outputs": [],
   "source": [
    "from sklearn.preprocessing import LabelEncoder"
   ]
  },
  {
   "cell_type": "code",
   "execution_count": 20,
   "metadata": {},
   "outputs": [],
   "source": [
    "le = LabelEncoder()"
   ]
  },
  {
   "cell_type": "code",
   "execution_count": 21,
   "metadata": {},
   "outputs": [],
   "source": [
    "for x in list(categorical):\n",
    "    categorical[x] = le.fit_transform(categorical[x])"
   ]
  },
  {
   "cell_type": "code",
   "execution_count": 22,
   "metadata": {},
   "outputs": [],
   "source": [
    "numerical[\"age\"] = 2019 - df[\"Year_of_Start\"]"
   ]
  },
  {
   "cell_type": "code",
   "execution_count": 23,
   "metadata": {},
   "outputs": [],
   "source": [
    "numerical = numerical.drop([\"Year_of_Start\"],1)"
   ]
  },
  {
   "cell_type": "code",
   "execution_count": 24,
   "metadata": {},
   "outputs": [],
   "source": [
    "df=pd.concat([numerical,categorical],1)"
   ]
  },
  {
   "cell_type": "code",
   "execution_count": 42,
   "metadata": {},
   "outputs": [],
   "source": [
    "X = df.drop([\"Closed\"],1)\n",
    "y = df[\"Closed\"]"
   ]
  },
  {
   "cell_type": "code",
   "execution_count": 43,
   "metadata": {},
   "outputs": [],
   "source": [
    "from sklearn.ensemble import RandomForestClassifier"
   ]
  },
  {
   "cell_type": "code",
   "execution_count": 44,
   "metadata": {},
   "outputs": [],
   "source": [
    "rfc = RandomForestClassifier(n_estimators=100, n_jobs=-1, \n",
    "                             min_samples_split=0.12)"
   ]
  },
  {
   "cell_type": "code",
   "execution_count": 45,
   "metadata": {},
   "outputs": [
    {
     "data": {
      "text/plain": [
       "RandomForestClassifier(bootstrap=True, class_weight=None, criterion='gini',\n",
       "            max_depth=None, max_features='auto', max_leaf_nodes=None,\n",
       "            min_impurity_decrease=0.0, min_impurity_split=None,\n",
       "            min_samples_leaf=1, min_samples_split=0.12,\n",
       "            min_weight_fraction_leaf=0.0, n_estimators=100, n_jobs=-1,\n",
       "            oob_score=False, random_state=None, verbose=0,\n",
       "            warm_start=False)"
      ]
     },
     "execution_count": 45,
     "metadata": {},
     "output_type": "execute_result"
    }
   ],
   "source": [
    "rfc.fit(X,y)"
   ]
  },
  {
   "cell_type": "code",
   "execution_count": 46,
   "metadata": {},
   "outputs": [
    {
     "data": {
      "text/plain": [
       "0.5923387096774193"
      ]
     },
     "execution_count": 46,
     "metadata": {},
     "output_type": "execute_result"
    }
   ],
   "source": [
    "rfc.score(X,y)"
   ]
  },
  {
   "cell_type": "code",
   "execution_count": 48,
   "metadata": {},
   "outputs": [
    {
     "data": {
      "image/png": "[encoded data removed]",
      "text/plain": [
       "<Figure size 432x288 with 1 Axes>"
      ]
     },
     "metadata": {
      "needs_background": "light"
     },
     "output_type": "display_data"
    }
   ],
   "source": [
    "ok = pd.Series(rfc.feature_importances_, index = list(X)).sort_values(ascending=True).plot(kind = \"barh\")"
   ]
  },
  {
   "cell_type": "code",
   "execution_count": null,
   "metadata": {},
   "outputs": [],
   "source": []
  }
 ],
 "metadata": {
  "kernelspec": {
   "display_name": "Python 3",
   "language": "python",
   "name": "python3"
  },
  "language_info": {
   "codemirror_mode": {
    "name": "ipython",
    "version": 3
   },
   "file_extension": ".py",
   "mimetype": "text/x-python",
   "name": "python",
   "nbconvert_exporter": "python",
   "pygments_lexer": "ipython3",
   "version": "3.7.1"
  }
 },
 "nbformat": 4,
 "nbformat_minor": 2
}
